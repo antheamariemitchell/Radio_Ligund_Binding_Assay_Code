{
 "cells": [
  {
   "cell_type": "code",
   "execution_count": 410,
   "metadata": {},
   "outputs": [],
   "source": [
    "#Install Libraries\n",
    "import matplotlib.pyplot as plt\n",
    "import seaborn as sns\n",
    "import pandas as pd\n",
    "import numpy as np\n",
    "import tkinter as Tkinter\n",
    "from tkinter import*\n",
    "import Bio as BP\n",
    "import collections as col\n",
    "import os\n",
    "import csv\n",
    "import re\n",
    "import regex\n",
    "import scipy\n",
    "from PIL import Image\n",
    "import natsort\n",
    "from natsort import natsorted, index_natsorted, order_by_index"
   ]
  },
  {
   "cell_type": "code",
   "execution_count": 411,
   "metadata": {},
   "outputs": [],
   "source": [
    "def intake():\n",
    "    list_well_names = [\"A1\", \"A2\", \"A3\", \"A4\", \"A5\", \"A6\", \"A7\", \"A8\", \"A9\", \"A10\", \"A11\", \"A12\",\n",
    "                         \"B1\", \"B2\", \"B3\", \"B4\", \"B5\", \"B6\", \"B7\", \"B8\", \"B9\", \"B10\", \"B11\", \"B12\",\n",
    "                        \"C1\", \"C2\", \"C3\", \"C4\", \"C5\", \"C6\", \"C7\", \"C8\", \"C9\", \"C10\", \"C11\", \"C12\",\n",
    "                        \"D1\", \"D2\", \"D3\", \"D4\", \"D5\", \"D6\", \"D7\", \"D8\", \"D9\", \"D10\", \"D11\", \"D12\",\n",
    "                        \"E1\", \"E2\", \"E3\", \"E4\", \"E5\", \"E6\", \"E7\", \"E8\", \"E9\", \"E10\", \"E11\", \"E12\",\n",
    "                        \"F1\", \"F2\", \"F3\", \"F4\", \"F5\", \"F6\", \"F7\", \"F8\", \"F9\", \"F10\", \"F11\", \"F12\",\n",
    "                        \"G1\", \"G2\", \"G3\", \"G4\", \"G5\", \"G6\", \"G7\", \"G8\", \"G9\", \"G10\", \"G11\", \"G12\",\n",
    "                        \"H1\", \"H2\", \"H3\", \"H4\", \"H5\", \"H6\", \"H7\", \"H8\", \"H9\", \"H10\", \"H11\", \"H12\",]\n",
    "    list_lists = [[],[],[],[],[],[],[],[],[],[],[],[],[],[],[],[],[],[],[],[],[],[],[],[],[],[],[],\n",
    "                  [],[],[],[],[],[],[],[],[],[],[],[],[],[],[],[],[],[],[],[],[],[],[],[],[],[],[],[],\n",
    "                  [],[],[],[],[],[],[],[],[],[],[],[],[],[],[],[],[],[],[],[],[],[],[],[],[],[],[],[],[],[],\n",
    "                  [],[],[],[],[],[],[],[],[],[],[]]\n",
    "\n",
    "    dictionary_name_type_count = {}\n",
    "    filenames = [\"Name.csv\", \"Type.csv\", \"Counts.csv\"]\n",
    "    for filename in filenames:\n",
    "        with open(filename, mode='r', encoding='utf-8-sig') as csv_file:\n",
    "            data = csv.reader(csv_file)\n",
    "            count = 0\n",
    "            for row in data:\n",
    "                for line in row:\n",
    "                    list_lists[count].append(line)\n",
    "                    dictionary_name_type_count[list_well_names[count]] = list_lists[count]\n",
    "                    count = count +1      \n",
    "\n",
    "    dictionary_name_type_count_DF = pd.DataFrame.from_dict(dictionary_name_type_count, orient='index', columns=['Name', 'Type', 'Counts'])\n",
    "    return dictionary_name_type_count_DF\n",
    "    "
   ]
  },
  {
   "cell_type": "code",
   "execution_count": 412,
   "metadata": {
    "scrolled": true
   },
   "outputs": [],
   "source": [
    "def healthy_and_blanks(Dataframe_name_type_counts):\n",
    "\n",
    "    blanks_DF = Dataframe_name_type_counts.loc[ (Dataframe_name_type_counts.Type == 'Blank'), ['Counts']]\n",
    "    blanks_DF = blanks_DF.astype(float)\n",
    "    average_blanks = blanks_DF.Counts.mean()\n",
    "\n",
    "    healthy_DF = Dataframe_name_type_counts.loc[ (Dataframe_name_type_counts.Type == 'HC'), ['Counts']]\n",
    "    healthy_DF = healthy_DF.astype(float)\n",
    "    average_healthy_control = healthy_DF.Counts.mean()\n",
    "    SD_healthy_controls = healthy_DF.std()\n",
    "    \n",
    "    average_healthy_corrected_by_blanks = average_healthy_control - average_blanks\n",
    "\n",
    "\n",
    "    healthy_list_corrected = healthy_DF.sub(average_blanks)\n",
    "\n",
    "    return SD_healthy_controls, average_blanks, average_healthy_control, average_healthy_corrected_by_blanks, healthy_list_corrected"
   ]
  },
  {
   "cell_type": "code",
   "execution_count": 414,
   "metadata": {},
   "outputs": [],
   "source": [
    "def antibody_index(Dataframe_name_type_counts, average_blanks, average_healthy_control, average_healthy_corrected_by_blanks, healthy_list_corrected):\n",
    "\n",
    "    PC_DF = Dataframe_name_type_counts.loc[ (Dataframe_name_type_counts.Type == 'PC'), ['Counts']]\n",
    "    PC_DF = PC_DF.astype(float)\n",
    "    PC_Average = PC_DF.Counts.mean()\n",
    "\n",
    "\n",
    "    all_sample_DF = Dataframe_name_type_counts[\"Counts\"]\n",
    "    all_sample_DF = all_sample_DF.astype(float)\n",
    "    blank_corrected_PC_value = PC_Average - average_blanks\n",
    "    sub_DF = all_sample_DF.sub(average_blanks)\n",
    "    AB_Index_DF = sub_DF.div(blank_corrected_PC_value)\n",
    "    return AB_Index_DF, blank_corrected_PC_value, all_sample_DF"
   ]
  },
  {
   "cell_type": "code",
   "execution_count": 416,
   "metadata": {},
   "outputs": [
    {
     "data": {
      "text/plain": [
       "'raw score minus the population mean, \\ndivided by the population standard deviation.'"
      ]
     },
     "execution_count": 416,
     "metadata": {},
     "output_type": "execute_result"
    }
   ],
   "source": [
    "def z_score(SD_healthy_controls, Dataframe_name_type_counts, average_blanks,average_healthy_control, average_healthy_corrected_by_blanks, healthy_list_corrected, AB_Index_DF, blank_corrected_PC_value, all_sample_DF):\n",
    "    \n",
    "    Combined = pd.concat([AB_Index_DF, Dataframe_name_type_counts], axis=1, join='outer')\n",
    "    Combined.columns = ['AB_Index', 'Name', 'Type', 'Counts']\n",
    "    \n",
    "    \n",
    "    AB_Index_healthy_DF = Combined.loc[ (Combined.Type == 'HC'), ['AB_Index']]\n",
    "    AB_Index_healthy_DF = AB_Index_healthy_DF.astype(float)\n",
    "    \n",
    "    average_AB_Index_healthy = AB_Index_healthy_DF.mean()\n",
    "    SD_healthy_controls_AB_Index = AB_Index_healthy_DF.std()\n",
    "    \n",
    "    SD_healthy_controls_AB_Index = float(SD_healthy_controls_AB_Index)\n",
    "    average_AB_Index_healthy = float(average_AB_Index_healthy)\n",
    "    \n",
    "    AB_Index_minus_average_HC = AB_Index_DF.sub(average_AB_Index_healthy)\n",
    "    \n",
    "    ZScore_AB_Index_DF = AB_Index_minus_average_HC.div(SD_healthy_controls_AB_Index)\n",
    "    \n",
    "    final_DF = pd.concat([AB_Index_DF, ZScore_AB_Index_DF, Dataframe_name_type_counts], axis=1, join='outer')\n",
    "    final_DF.columns = ['AB_Index', 'Z_Score', 'Name', 'Type', 'Counts']\n",
    "    \n",
    "    return final_DF\n",
    "\"\"\"raw score minus the population mean, \n",
    "divided by the population standard deviation.\"\"\""
   ]
  },
  {
   "cell_type": "code",
   "execution_count": 427,
   "metadata": {},
   "outputs": [],
   "source": [
    "def graph(final_DF):\n",
    "    names = [\"HC\", \"Samples\", \"PC\", \"Blanks\"]\n",
    "    HC_Plot = final_DF.loc[ (final_DF.Type == 'HC'), ['AB_Index']]\n",
    "    Samples_Plot = final_DF.loc[ (final_DF.Type == 'Samples'), ['AB_Index']]\n",
    "    PC_Plot = final_DF.loc[ (final_DF.Type == 'PC'), ['AB_Index']]\n",
    "    Blanks_Plot = final_DF.loc[ (final_DF.Type == 'Blanks'), ['AB_Index']]\n",
    "    \n",
    "    print(final_DF)\n",
    "    Final_Plot = final_DF[['AB_Index',\"Type\"]]\n",
    "    print(Final_Plot)\n",
    "    Final_Plot.plot(x = \"Type\", y = 'AB_Index', kind=\"scatter\")\n",
    "    plt.show()"
   ]
  },
  {
   "cell_type": "code",
   "execution_count": 423,
   "metadata": {},
   "outputs": [],
   "source": [
    "def main():\n",
    "    print(\"Make sure you have 3 files named as shown below:\\n1. Name.csv\\n2. Type.csv\\n3. Counts.csv\\n\")\n",
    "    Dataframe_name_type_counts = intake()\n",
    "    SD_healthy_controls, average_blanks, average_healthy_control, average_healthy_corrected_by_blanks, healthy_list_corrected = healthy_and_blanks(Dataframe_name_type_counts)\n",
    "    AB_Index_DF, blank_corrected_PC_value, all_sample_DF = antibody_index(Dataframe_name_type_counts, average_blanks, average_healthy_control, average_healthy_corrected_by_blanks, healthy_list_corrected)\n",
    "    final_DF = z_score(SD_healthy_controls, Dataframe_name_type_counts, average_blanks,average_healthy_control, average_healthy_corrected_by_blanks, healthy_list_corrected, AB_Index_DF, blank_corrected_PC_value, all_sample_DF)\n",
    "    graph(final_DF)\n",
    "    final_DF.to_csv(\"Final.csv\")\n",
    "    \n",
    "    print(blank_corrected_PC_value, average_blanks, average_healthy_control, average_healthy_corrected_by_blanks)"
   ]
  },
  {
   "cell_type": "code",
   "execution_count": 428,
   "metadata": {
    "scrolled": true
   },
   "outputs": [
    {
     "name": "stdout",
     "output_type": "stream",
     "text": [
      "Make sure you have 3 files named as shown below:\n",
      "1. Name.csv\n",
      "2. Type.csv\n",
      "3. Counts.csv\n",
      "\n",
      "     AB_Index   Z_Score       Name    Type Counts\n",
      "A1   0.029549 -0.493081  MH087_Pre  Sample     46\n",
      "A2   0.022551 -0.643004  MH087_6mo  Sample     43\n",
      "A3   0.038880 -0.293183  MH088_Pre  Sample     50\n",
      "A4   0.122862  1.505896  MH088_6mo  Sample     86\n",
      "A5  -0.052100 -2.242186  MH089_Pre  Sample     11\n",
      "..        ...       ...        ...     ...    ...\n",
      "H8   0.027216 -0.543055      HC094      HC     45\n",
      "H9   0.045879 -0.143260      HC023      HC     53\n",
      "H10  0.150855  2.105589      HC035      HC     98\n",
      "H11  0.034215 -0.393132      HC047      HC     48\n",
      "H12  0.022551 -0.643004      HC059      HC     43\n",
      "\n",
      "[96 rows x 5 columns]\n",
      "     AB_Index    Type\n",
      "A1   0.029549  Sample\n",
      "A2   0.022551  Sample\n",
      "A3   0.038880  Sample\n",
      "A4   0.122862  Sample\n",
      "A5  -0.052100  Sample\n",
      "..        ...     ...\n",
      "H8   0.027216      HC\n",
      "H9   0.045879      HC\n",
      "H10  0.150855      HC\n",
      "H11  0.034215      HC\n",
      "H12  0.022551      HC\n",
      "\n",
      "[96 rows x 2 columns]\n"
     ]
    },
    {
     "data": {
      "image/png": "[encoded data removed]",
      "text/plain": [
       "<Figure size 432x288 with 1 Axes>"
      ]
     },
     "metadata": {
      "needs_background": "light"
     },
     "output_type": "display_data"
    },
    {
     "name": "stdout",
     "output_type": "stream",
     "text": [
      "428.6666666666667 33.333333333333336 55.86666666666667 22.53333333333333\n"
     ]
    }
   ],
   "source": [
    "main()"
   ]
  },
  {
   "cell_type": "code",
   "execution_count": null,
   "metadata": {},
   "outputs": [],
   "source": [
    "Sample_Names.csv\n",
    "Type.csv\n",
    "Counts.csv\n",
    "\n",
    "print(\n",
    "    \n",
    "    Average Healthy Controls\n",
    "    Standard Deviation of Healthy Controls\n",
    "    Average Blanks\n",
    "    \n",
    "    \n",
    "    \n",
    "    )"
   ]
  }
 ],
 "metadata": {
  "kernelspec": {
   "display_name": "Python 3",
   "language": "python",
   "name": "python3"
  },
  "language_info": {
   "codemirror_mode": {
    "name": "ipython",
    "version": 3
   },
   "file_extension": ".py",
   "mimetype": "text/x-python",
   "name": "python",
   "nbconvert_exporter": "python",
   "pygments_lexer": "ipython3",
   "version": "3.8.5"
  }
 },
 "nbformat": 4,
 "nbformat_minor": 4
}
